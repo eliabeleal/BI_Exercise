{
 "cells": [
  {
   "cell_type": "code",
   "execution_count": 3,
   "metadata": {},
   "outputs": [],
   "source": [
    "import pandas as pd\n",
    "import numpy as np\n",
    "import matplotlib.pyplot as plt\n",
    "\n",
    "%matplotlib inline"
   ]
  },
  {
   "cell_type": "code",
   "execution_count": 4,
   "metadata": {},
   "outputs": [],
   "source": [
    "categorias = pd.read_csv(\"dados/Categorias.csv\")\n",
    "clientes = pd.read_csv(\"dados/Clientes.csv\")\n",
    "detalhes_do_Pedido = pd.read_csv(\"dados/Detalhes_do_Pedido.csv\")\n",
    "fornecedores = pd.read_csv(\"dados/Fornecedores.csv\")\n",
    "funcionarios = pd.read_csv(\"dados/Funcionarios.csv\")\n",
    "pedidos = pd.read_csv(\"dados/Pedidos.csv\")\n",
    "produtos = pd.read_csv(\"dados/Produtos.csv\")\n",
    "transportadoras = pd.read_csv(\"dados/Transportadoras.csv\")"
   ]
  },
  {
   "cell_type": "markdown",
   "metadata": {
    "scrolled": true
   },
   "source": [
    "Quanto foi faturado nos anos de 2016, 2017 e 2018?"
   ]
  },
  {
   "cell_type": "code",
   "execution_count": 111,
   "metadata": {},
   "outputs": [
    {
     "data": {
      "text/plain": [
       "238624.5000000001"
      ]
     },
     "execution_count": 111,
     "metadata": {},
     "output_type": "execute_result"
    }
   ],
   "source": [
    "ano = pd.to_datetime(pedidos.DataDoPedido).dt.year\n",
    "pedidos_2016 = pedidos[ano == 2016]\n",
    "\n",
    "merged_2016 = pd.merge(detalhes_do_Pedido, pedidos_2016, on=['NúmeroDoPedido'], how='inner')\n",
    "sum(merged_2016.PreçoUnitário*merged_2016.Quantidade)"
   ]
  },
  {
   "cell_type": "code",
   "execution_count": 113,
   "metadata": {},
   "outputs": [
    {
     "data": {
      "text/plain": [
       "653511.7499999997"
      ]
     },
     "execution_count": 113,
     "metadata": {},
     "output_type": "execute_result"
    }
   ],
   "source": [
    "ano = pd.to_datetime(pedidos.DataDoPedido).dt.year\n",
    "pedidos_2017 = pedidos[ano == 2017]\n",
    "\n",
    "merged_2017 = pd.merge(detalhes_do_Pedido, pedidos_2017, on=['NúmeroDoPedido'], how='inner')\n",
    "sum(merged_2017.PreçoUnitário*merged_2017.Quantidade)"
   ]
  },
  {
   "cell_type": "code",
   "execution_count": 112,
   "metadata": {},
   "outputs": [
    {
     "data": {
      "text/plain": [
       "462322.34"
      ]
     },
     "execution_count": 112,
     "metadata": {},
     "output_type": "execute_result"
    }
   ],
   "source": [
    "ano = pd.to_datetime(pedidos.DataDoPedido).dt.year\n",
    "pedidos_2018 = pedidos[ano == 2018]\n",
    "\n",
    "merged_2018 = pd.merge(detalhes_do_Pedido, pedidos_2018, on=['NúmeroDoPedido'], how='inner')\n",
    "sum(merged_2018.PreçoUnitário*merged_2018.Quantidade)"
   ]
  },
  {
   "cell_type": "markdown",
   "metadata": {},
   "source": [
    "Qual o principal cliente da empresa no ano de 2017?"
   ]
  },
  {
   "cell_type": "code",
   "execution_count": 144,
   "metadata": {},
   "outputs": [
    {
     "data": {
      "text/plain": [
       "30    Jytte Petersen\n",
       "Name: NomeDoContato, dtype: object"
      ]
     },
     "execution_count": 144,
     "metadata": {},
     "output_type": "execute_result"
    }
   ],
   "source": [
    "merged_2017['venda'] = (merged_2017.PreçoUnitário*merged_2017.Quantidade)\n",
    "cod_cli = merged_2017.loc[merged_2017['venda'].idxmax()].CódigoDoCliente\n",
    "clientes.loc[clientes['CódigoDoCliente'] == cod_cli].NomeDoContato"
   ]
  },
  {
   "cell_type": "markdown",
   "metadata": {},
   "source": [
    "Qual o produto mais vendido no ano de 2016?"
   ]
  },
  {
   "cell_type": "code",
   "execution_count": 150,
   "metadata": {},
   "outputs": [
    {
     "data": {
      "text/plain": [
       "76    Original Frankfurter grüne Soße\n",
       "Name: NomeDoProduto, dtype: object"
      ]
     },
     "execution_count": 150,
     "metadata": {},
     "output_type": "execute_result"
    }
   ],
   "source": [
    "cod_produto = merged_2016.loc[merged_2016['CódigoDoProduto'].idxmax()].CódigoDoProduto\n",
    "produtos.loc[produtos['CódigoDoProduto'] == cod_produto].NomeDoProduto"
   ]
  },
  {
   "cell_type": "code",
   "execution_count": 155,
   "metadata": {},
   "outputs": [
    {
     "data": {
      "text/plain": [
       "3    Margaret\n",
       "Name: Nome, dtype: object"
      ]
     },
     "execution_count": 155,
     "metadata": {},
     "output_type": "execute_result"
    }
   ],
   "source": [
    "cod_func = merged_2017.loc[merged_2017['venda'].idxmax()].CódigoDoFuncionário\n",
    "funcionarios.loc[funcionarios['CódigoDoFuncionário'] == cod_func].Nome"
   ]
  },
  {
   "cell_type": "markdown",
   "metadata": {},
   "source": [
    "Quem é o principal vendedor da empresa no ano de 2017?\n",
    "Qual a categoria de produtos mais vendida na Alemanha no ano de 2018?\n",
    "Quais os vendedores que venderam Bebidas para o Brasil em 2017?\n",
    "Quem é o principal cliente da empresa na categoria de Grãos e Cereais em 2016?\n",
    "Qual é o produto da categoria de Bebidas mais vendido em 2017?\n",
    "Quais os países de clientes que mais consomem (em qtde) o produto Cotê de Blaye em 2016?\n",
    "Como vão as vendas mensais entre 2016 e 2018?"
   ]
  },
  {
   "cell_type": "code",
   "execution_count": 71,
   "metadata": {},
   "outputs": [
    {
     "data": {
      "text/plain": [
       "0      2016\n",
       "1      2016\n",
       "2      2016\n",
       "3      2016\n",
       "4      2016\n",
       "       ... \n",
       "825    2018\n",
       "826    2018\n",
       "827    2018\n",
       "828    2018\n",
       "829    2018\n",
       "Name: DataDoPedido, Length: 830, dtype: int64"
      ]
     },
     "execution_count": 71,
     "metadata": {},
     "output_type": "execute_result"
    }
   ],
   "source": [
    "sum(detalhes_do_Pedido.PreçoUnitário)\n",
    "pd.to_datetime(pedidos.DataDoPedido).dt.year\n",
    "for i in pedidos2016.itertuples():\n",
    "    price = i.NúmeroDoPedido\n",
    "    print(detalhes_do_Pedido['NúmeroDoPedido'] == price)"
   ]
  },
  {
   "cell_type": "code",
   "execution_count": null,
   "metadata": {},
   "outputs": [],
   "source": []
  },
  {
   "cell_type": "code",
   "execution_count": null,
   "metadata": {},
   "outputs": [],
   "source": []
  },
  {
   "cell_type": "code",
   "execution_count": null,
   "metadata": {},
   "outputs": [],
   "source": []
  },
  {
   "cell_type": "code",
   "execution_count": null,
   "metadata": {},
   "outputs": [],
   "source": []
  },
  {
   "cell_type": "code",
   "execution_count": null,
   "metadata": {},
   "outputs": [],
   "source": []
  },
  {
   "cell_type": "code",
   "execution_count": null,
   "metadata": {},
   "outputs": [],
   "source": []
  }
 ],
 "metadata": {
  "kernelspec": {
   "display_name": "Python 3",
   "language": "python",
   "name": "python3"
  },
  "language_info": {
   "codemirror_mode": {
    "name": "ipython",
    "version": 3
   },
   "file_extension": ".py",
   "mimetype": "text/x-python",
   "name": "python",
   "nbconvert_exporter": "python",
   "pygments_lexer": "ipython3",
   "version": "3.7.3"
  }
 },
 "nbformat": 4,
 "nbformat_minor": 2
}
